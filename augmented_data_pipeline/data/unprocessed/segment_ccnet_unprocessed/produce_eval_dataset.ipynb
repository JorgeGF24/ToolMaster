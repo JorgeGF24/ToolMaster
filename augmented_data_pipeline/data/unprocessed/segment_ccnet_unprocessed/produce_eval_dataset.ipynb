{
 "cells": [
  {
   "cell_type": "code",
   "execution_count": 23,
   "metadata": {},
   "outputs": [
    {
     "name": "stdout",
     "output_type": "stream",
     "text": [
      "Index(['url', 'date_download', 'digest', 'length', 'nlines', 'source_domain',\n",
      "       'title', 'raw_content', 'cc_segment', 'original_nlines',\n",
      "       'original_length', 'language', 'language_score', 'perplexity',\n",
      "       'bucket'],\n",
      "      dtype='object')\n",
      "Index(['url', 'text', 'API_calls_text', 'API_call_response_text', 'position',\n",
      "       'loss_improvement', 'processed_arg', 'title', 'date_download', 'digest',\n",
      "       'length', 'nlines', 'source_domain', 'cc_segment', 'original_nlines',\n",
      "       'original_length', 'language', 'language_score', 'perplexity', 'bucket',\n",
      "       'tokenized_start_text', 'tool_name', 'tokenized_text', 'token_type',\n",
      "       'tokenized_end_text', 'start_token_type', 'end_token_type',\n",
      "       'start_method_A_train_mask', 'end_method_A_train_mask',\n",
      "       'duplicity_count_tool', 'duplicity_count_global',\n",
      "       'duplicity_ranking_tool', 'duplicity_ranking_global',\n",
      "       'duplicity_count_stats', 'duplicity_ranking_stats', 'op_label',\n",
      "       'ops_used', 'relevance', 'duplicity_ranking_subset'],\n",
      "      dtype='object')\n",
      "5843\n",
      "0    False\n",
      "1    False\n",
      "2    False\n",
      "3    False\n",
      "4    False\n",
      "5    False\n",
      "6    False\n",
      "7    False\n",
      "8    False\n",
      "9    False\n",
      "Name: url, dtype: bool\n",
      "http://ablach.com/9152988554\n",
      "False\n",
      "Number of urls in df that are not in training_df: 8705\n",
      "1000\n"
     ]
    }
   ],
   "source": [
    "# Read 0000.json which is a file with a json per line:\n",
    "\n",
    "import pandas as pd\n",
    "\n",
    "df = pd.read_json(\"/vol/bitbucket/jg2619/augmenting_llms/augmented_data_pipeline/data/unprocessed/segment_ccnet_unprocessed/0000.json\", lines=True)\n",
    "\n",
    "training_df = pd.read_csv(\"/vol/bitbucket/jg2619/augmenting_llms/augmented_data_pipeline/data/train/construction/duplicity_rankings/GPTJ_shiny_new/train.csv\")\n",
    "\n",
    "# Find 1000 examples where the df.url is not in the training_df.url\n",
    "\n",
    "print(df.columns)\n",
    "print(training_df.columns)\n",
    "\n",
    "print(len(training_df.url.unique()))\n",
    "difs = df.url.isin(list(training_df.url.unique()))\n",
    "\n",
    "print(difs.head(10))\n",
    "# First df row url:\n",
    "print(df.url[0])\n",
    "\n",
    "print(\"http://ablach.com/9152988554\" in list(training_df.url.unique()))\n",
    "\n",
    "# Print count:\n",
    "print(f\"Number of urls in df that are not in training_df: {len(difs) - sum(difs)}\")\n",
    "\n",
    "\n",
    "# Save first 1000 examples to a csv file:\n",
    "eval_df = df[~difs].head(1000)\n",
    "\n",
    "# Change raw_content to text:\n",
    "eval_df = eval_df.rename(columns={\"raw_content\": \"text\"})\n",
    "\n",
    "print(len(eval_df))\n",
    "\n",
    "eval_df.to_csv(\"/vol/bitbucket/jg2619/augmenting_llms/augmented_data_pipeline/data/unprocessed/segment_ccnet_unprocessed/1000_examples_not_in_training.csv\", index=False)"
   ]
  },
  {
   "cell_type": "code",
   "execution_count": 22,
   "metadata": {},
   "outputs": [
    {
     "name": "stderr",
     "output_type": "stream",
     "text": [
      "Found cached dataset csv (/vol/bitbucket/jg2619/augmenting_llms/augmented_data_pipeline/toolformer/cache/csv/segment_ccnet_unprocessed-cf56bd880bf4015c/0.0.0/eea64c71ca8b46dd3f537ed218fc9bf495d5707789152eb2764f5c78fa66d59d)\n"
     ]
    },
    {
     "name": "stdout",
     "output_type": "stream",
     "text": [
      "['url', 'date_download', 'digest', 'length', 'nlines', 'source_domain', 'title', 'raw_content', 'cc_segment', 'original_nlines', 'original_length', 'language', 'language_score', 'perplexity', 'bucket']\n"
     ]
    }
   ],
   "source": [
    "from datasets import load_dataset\n",
    "\n",
    "cache_dir = \"/vol/bitbucket/jg2619/augmenting_llms/augmented_data_pipeline/toolformer/cache\"\n",
    "\n",
    "eval_d = load_dataset(\"/vol/bitbucket/jg2619/augmenting_llms/augmented_data_pipeline/data/unprocessed/segment_ccnet_unprocessed\", data_files=[\"1000_examples_not_in_training.csv\"], split=\"train\", cache_dir=cache_dir)\n",
    "\n",
    "print(eval_d.column_names)"
   ]
  }
 ],
 "metadata": {
  "kernelspec": {
   "display_name": "oldtoolvenv",
   "language": "python",
   "name": "python3"
  },
  "language_info": {
   "codemirror_mode": {
    "name": "ipython",
    "version": 3
   },
   "file_extension": ".py",
   "mimetype": "text/x-python",
   "name": "python",
   "nbconvert_exporter": "python",
   "pygments_lexer": "ipython3",
   "version": "3.10.12"
  },
  "orig_nbformat": 4
 },
 "nbformat": 4,
 "nbformat_minor": 2
}
