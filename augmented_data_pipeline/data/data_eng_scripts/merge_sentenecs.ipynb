{
 "cells": [
  {
   "cell_type": "markdown",
   "metadata": {},
   "source": [
    "# Merges consecutive sentences to permit longer contexts"
   ]
  },
  {
   "cell_type": "code",
   "execution_count": 1,
   "metadata": {},
   "outputs": [
    {
     "name": "stderr",
     "output_type": "stream",
     "text": [
      "/vol/bitbucket/jg2619/toolformer-luci/oldtoolvenv/lib/python3.10/site-packages/tqdm/auto.py:21: TqdmWarning: IProgress not found. Please update jupyter and ipywidgets. See https://ipywidgets.readthedocs.io/en/stable/user_install.html\n",
      "  from .autonotebook import tqdm as notebook_tqdm\n"
     ]
    },
    {
     "name": "stdout",
     "output_type": "stream",
     "text": [
      "/vol/bitbucket/jg2619/augmenting_llms/augmented_data_pipeline/data/definite_horizon/augmented_prompttrick/wikiSearch_LLAMA/merged\n",
      "Merging 1.csv...\n",
      "Merging 0.csv...\n",
      "Merging 2.csv...\n"
     ]
    }
   ],
   "source": [
    "import pandas as pd\n",
    "from transformers import LlamaTokenizer\n",
    "import os\n",
    "\n",
    "file_dir = \"/vol/bitbucket/jg2619/augmenting_llms/augmented_data_pipeline/data/definite_horizon/augmented_standard/calendar_LLAMA\"\n",
    "new_dir = os.path.join(file_dir, \"merged\")\n",
    "\n",
    "# Create new_dir\n",
    "if not os.path.exists(new_dir):\n",
    "    os.mkdir(new_dir)\n",
    "\n",
    "print(new_dir)\n",
    "\n",
    "cache_dir = \"/vol/bitbucket/jg2619/augmenting_llms/augmented_data_pipeline/toolformer/cache\"\n",
    "\n",
    "tokenizer = LlamaTokenizer.from_pretrained(\"meta-llama/Llama-2-7b-hf\", cache_dir=cache_dir, token=\"***REMOVED***\",)\n",
    "tokenizer.add_bos_token = False\n",
    "\n",
    "dot = tokenizer.encode(\".\")\n",
    "\n",
    "max_context_length=150\n",
    "\n",
    "search_files = {\n",
    "    \"Calculator\": [\"9.csv\"],\n",
    "    \"Calendar\": [\"8.csv\", \"6.csv\", \"1.csv\", \"9.csv\",],\n",
    "    \"WikiSearch\": [\"5.csv\"]\n",
    "}\n",
    "\n",
    "def merge_sentences(input_df):\n",
    "\n",
    "    output_df = pd.DataFrame(columns=input_df.columns)\n",
    "\n",
    "    # Initialise context to first url\n",
    "    context = input_df.iloc[0].url\n",
    "    curr_text = []\n",
    "    prev_row = None\n",
    "\n",
    "    for i, row in input_df.iterrows():\n",
    "        tokenized_text = tokenizer.encode(row.text)\n",
    "\n",
    "        if row.url == context:\n",
    "            if len(tokenized_text) + len(curr_text) < max_context_length:\n",
    "                if prev_row is not None and not prev_row.text.endswith(\".\"):\n",
    "                    curr_text += dot\n",
    "                curr_text += tokenized_text\n",
    "            else:\n",
    "                if prev_row is not None:\n",
    "                    prev_row.text = tokenizer.decode(curr_text)\n",
    "                    output_df = pd.concat([output_df, pd.DataFrame([prev_row])], ignore_index=True)\n",
    "                curr_text = tokenized_text\n",
    "        else:\n",
    "            prev_row.text = tokenizer.decode(curr_text)\n",
    "            output_df = pd.concat([output_df, pd.DataFrame([prev_row])], ignore_index=True)\n",
    "            \n",
    "            context = row.url\n",
    "            curr_text = tokenized_text\n",
    "\n",
    "        prev_row = row\n",
    "\n",
    "    return output_df\n",
    "\n",
    "for file in [f for f in os.listdir(file_dir) if f.endswith(\".csv\") and \"stat\" not in f]:\n",
    "    print(f\"Merging {file}...\")\n",
    "    df = pd.read_csv(os.path.join(file_dir, file))\n",
    "    df = merge_sentences(df)\n",
    "    df.to_csv(os.path.join(new_dir, file), index=False)"
   ]
  },
  {
   "cell_type": "code",
   "execution_count": 2,
   "metadata": {},
   "outputs": [
    {
     "data": {
      "text/plain": [
       "'Hello my name. My name is John.'"
      ]
     },
     "execution_count": 2,
     "metadata": {},
     "output_type": "execute_result"
    }
   ],
   "source": [
    "tokenizer.decode(tokenizer.encode(\"Hello my name.\")+tokenizer.encode(\"My name is John.\"))"
   ]
  },
  {
   "cell_type": "code",
   "execution_count": 13,
   "metadata": {},
   "outputs": [
    {
     "data": {
      "text/plain": [
       "[29871, 869, 29871]"
      ]
     },
     "execution_count": 13,
     "metadata": {},
     "output_type": "execute_result"
    }
   ],
   "source": [
    "tokenizer.encode(\" . \")"
   ]
  }
 ],
 "metadata": {
  "kernelspec": {
   "display_name": "oldtoolvenv",
   "language": "python",
   "name": "python3"
  },
  "language_info": {
   "codemirror_mode": {
    "name": "ipython",
    "version": 3
   },
   "file_extension": ".py",
   "mimetype": "text/x-python",
   "name": "python",
   "nbconvert_exporter": "python",
   "pygments_lexer": "ipython3",
   "version": "3.10.12"
  },
  "orig_nbformat": 4
 },
 "nbformat": 4,
 "nbformat_minor": 2
}
