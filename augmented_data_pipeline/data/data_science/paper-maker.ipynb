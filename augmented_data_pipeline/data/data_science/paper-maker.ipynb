{
 "cells": [
  {
   "cell_type": "code",
   "execution_count": 45,
   "metadata": {},
   "outputs": [],
   "source": [
    "import pandas as pd\n",
    "import os\n",
    "\n",
    "DATA_PATH = \"/vol/bitbucket/jg2619/augmenting_llms/augmented_data_pipeline/data/train/curated\"\n",
    "FILE_NAME = \"train_short.csv\"\n",
    "experiment_names = [\"LLAMA2_llama-round2\", \"GPTJ_med_set\"]\n",
    "\n",
    "dfs = []\n",
    "\n",
    "for experiment_name in experiment_names:\n",
    "    df = pd.read_csv(os.path.join(DATA_PATH, experiment_name, FILE_NAME))\n",
    "    df[\"experiment_name\"] = experiment_name\n",
    "    dfs.append(df)"
   ]
  },
  {
   "cell_type": "code",
   "execution_count": 46,
   "metadata": {},
   "outputs": [
    {
     "name": "stdout",
     "output_type": "stream",
     "text": [
      "                               tool_name relevance                     \n",
      "                                   count      mean        max       min\n",
      "experiment_name     tool_name                                          \n",
      "GPTJ_med_set        Calculator      3000 -0.537919   2.961153 -0.927469\n",
      "                    Calendar        1500 -0.082624   2.174629 -0.400528\n",
      "                    WikiSearch      4950 -0.001672   4.248432 -0.462925\n",
      "LLAMA2_llama-round2 Calculator      2843 -0.028793   6.044215 -0.487642\n",
      "                    Calendar        3000 -1.731007   6.444887 -2.571811\n",
      "                    WikiSearch      4685 -0.827435  25.095109 -2.242239\n"
     ]
    }
   ],
   "source": [
    "# Number of rows of each tool_name for each experiment\n",
    "df = pd.concat(dfs)\n",
    "\n",
    "print(df.groupby([\"experiment_name\", \"tool_name\"]).agg({\"tool_name\": \"count\", \"relevance\": [\"mean\", \"max\", \"min\"]}))"
   ]
  },
  {
   "cell_type": "code",
   "execution_count": 47,
   "metadata": {},
   "outputs": [
    {
     "name": "stdout",
     "output_type": "stream",
     "text": [
      "Len of prefiltering 19978\n",
      "5796\n",
      "4600\n",
      "9898\n",
      "Diff: 498\n",
      "961\n"
     ]
    }
   ],
   "source": [
    "# Check how many urls appear uniquely in each experiment and how many appear in both\n",
    "df2 = pd.concat(dfs)\n",
    "print(f\"Len of prefiltering {len(df2)}\")\n",
    "count = 0\n",
    "for df in dfs:\n",
    "    print(df[\"url\"].nunique())\n",
    "    count += df[\"url\"].nunique()\n",
    "print(df2[\"url\"].nunique())\n",
    "\n",
    "print(f\"Diff: {count - df2['url'].nunique()}\")\n",
    "\n",
    "df0_urls = set(dfs[0][\"url\"].values)\n",
    "\n",
    "dfs[1][\"duplicate_url\"] = False\n",
    "\n",
    "for i, row in dfs[1].iterrows():\n",
    "    if row[\"url\"] in df0_urls:\n",
    "        dfs[1].loc[i, \"duplicate_url\"] = True\n",
    "\n",
    "print(len(dfs[1][dfs[1][\"duplicate_url\"]==True]))\n"
   ]
  },
  {
   "cell_type": "code",
   "execution_count": 58,
   "metadata": {},
   "outputs": [],
   "source": [
    "dfs2 = [dfs[0], dfs[1][dfs[1].duplicate_url == False]]\n",
    "\n",
    "df = pd.concat(dfs2)\n",
    "\n",
    "len(df)\n",
    "\n",
    "# delete column called duplicate_urls\n",
    "del df[\"duplicate_url\"]"
   ]
  },
  {
   "cell_type": "code",
   "execution_count": 60,
   "metadata": {},
   "outputs": [],
   "source": [
    "# Save to csv:\n",
    "df.to_csv(os.path.join(DATA_PATH, \"LLAMA2_GPTJ_merged_2\", \"Calculator_train_short.csv\"), index=False)"
   ]
  }
 ],
 "metadata": {
  "kernelspec": {
   "display_name": "oldtoolvenv",
   "language": "python",
   "name": "python3"
  },
  "language_info": {
   "codemirror_mode": {
    "name": "ipython",
    "version": 3
   },
   "file_extension": ".py",
   "mimetype": "text/x-python",
   "name": "python",
   "nbconvert_exporter": "python",
   "pygments_lexer": "ipython3",
   "version": "3.10.12"
  }
 },
 "nbformat": 4,
 "nbformat_minor": 2
}
