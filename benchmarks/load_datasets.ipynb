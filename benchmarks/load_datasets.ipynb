{
 "cells": [
  {
   "cell_type": "markdown",
   "metadata": {},
   "source": [
    "## Load TriviaQA\n"
   ]
  },
  {
   "cell_type": "code",
   "execution_count": 12,
   "metadata": {},
   "outputs": [
    {
     "name": "stdout",
     "output_type": "stream",
     "text": [
      "dict_keys(['Answer', 'EntityPages', 'Question', 'QuestionId', 'QuestionSource', 'SearchResults'])\n",
      "dict_keys(['Aliases', 'MatchedWikiEntityName', 'NormalizedAliases', 'NormalizedMatchedWikiEntityName', 'NormalizedValue', 'Type', 'Value'])\n"
     ]
    }
   ],
   "source": [
    "# Load the json dataset:\n",
    "\n",
    "import json\n",
    "\n",
    "dataset = []\n",
    "\n",
    "with open('/vol/bitbucket/jg2619/augmenting_llms/benchmarks/TriviaQA/triviaqa-unfiltered/unfiltered-web-dev.json') as f:\n",
    "    data = json.load(f)\n",
    "\n",
    "    data = data[\"Data\"]\n",
    "\n",
    "    print(data[0].keys())\n",
    "    print(data[0][\"Answer\"].keys())\n",
    "\n",
    "    for row in data:\n",
    "        short_row = {}\n",
    "        short_row[\"id\"] = row[\"QuestionId\"]\n",
    "        short_row[\"question\"] = row[\"Question\"]\n",
    "        short_row[\"answer\"] = row[\"Answer\"][\"Value\"]\n",
    "        short_row[\"answer_aliases\"] = row[\"Answer\"][\"Aliases\"]\n",
    "        short_row[\"answer_type\"] = row[\"Answer\"][\"Type\"]\n",
    "        dataset.append(short_row)\n",
    "\n",
    "\n",
    "dataset = {\"Data\": dataset}\n",
    "\n",
    "# save json in new file:\n",
    "with open('/vol/bitbucket/jg2619/augmenting_llms/benchmarks/TriviaQA/triviaqa-unfiltered/short-unfiltered-web-dev.json', 'w') as outfile:\n",
    "    json.dump(dataset, outfile)"
   ]
  }
 ],
 "metadata": {
  "kernelspec": {
   "display_name": "oldtoolvenv",
   "language": "python",
   "name": "python3"
  },
  "language_info": {
   "codemirror_mode": {
    "name": "ipython",
    "version": 3
   },
   "file_extension": ".py",
   "mimetype": "text/x-python",
   "name": "python",
   "nbconvert_exporter": "python",
   "pygments_lexer": "ipython3",
   "version": "3.10.12"
  },
  "orig_nbformat": 4
 },
 "nbformat": 4,
 "nbformat_minor": 2
}
